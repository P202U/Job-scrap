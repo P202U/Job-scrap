{
  "nbformat": 4,
  "nbformat_minor": 0,
  "metadata": {
    "colab": {
      "provenance": [],
      "authorship_tag": "ABX9TyPvzxk81eKWtTMHWkWkvsrA",
      "include_colab_link": true
    },
    "kernelspec": {
      "name": "python3",
      "display_name": "Python 3"
    },
    "language_info": {
      "name": "python"
    }
  },
  "cells": [
    {
      "cell_type": "markdown",
      "metadata": {
        "id": "view-in-github",
        "colab_type": "text"
      },
      "source": [
        "<a href=\"https://colab.research.google.com/github/P202U/Job-scrap/blob/main/Job_Scrap.ipynb\" target=\"_parent\"><img src=\"https://colab.research.google.com/assets/colab-badge.svg\" alt=\"Open In Colab\"/></a>"
      ]
    },
    {
      "cell_type": "code",
      "execution_count": 2,
      "metadata": {
        "id": "pN5IuKjDhOJC"
      },
      "outputs": [],
      "source": [
        "import requests\n",
        "from bs4 import BeautifulSoup\n",
        "import pandas as pd"
      ]
    },
    {
      "cell_type": "code",
      "source": [
        "keyword = 'fullstack'\n",
        "location = 'Delhi'\n",
        "pageNum = 0\n",
        "job_url = f'https://www.linkedin.com/jobs/search?keywords={keyword}&location={location}&pageNum={pageNum}'\n",
        "\n",
        "response = requests.get(job_url)\n",
        "job_data = response.text\n",
        "soup = BeautifulSoup(job_data, \"lxml\")\n",
        "page_jobs = soup.find_all('div', {'class': 'base-card relative w-full hover:no-underline focus:no-underline base-card--link base-search-card base-search-card--link job-search-card'})\n",
        "print(page_jobs)"
      ],
      "metadata": {
        "id": "PAIHJuojhkSa"
      },
      "execution_count": null,
      "outputs": []
    },
    {
      "cell_type": "code",
      "source": [
        "job_id_list = []\n",
        "\n",
        "page_jobs = soup.find_all('div', class_='job-search-card')\n",
        "\n",
        "for job_card in page_jobs:\n",
        "    try:\n",
        "        urn_string = job_card.get(\"data-entity-urn\")\n",
        "\n",
        "        if urn_string:\n",
        "            job_id = urn_string.split(\":\")[-1]\n",
        "\n",
        "            print(job_id)\n",
        "            job_id_list.append(job_id)\n",
        "\n",
        "    except (AttributeError, IndexError) as e:\n",
        "        print(f\"Skipping a job card due to an error: {e}\")\n",
        "        continue\n",
        "\n",
        "print(\"\\nAll extracted Job IDs:\", job_id_list)"
      ],
      "metadata": {
        "colab": {
          "base_uri": "https://localhost:8080/"
        },
        "id": "Z39YbL04PkDJ",
        "outputId": "0ee092eb-065a-40dd-c11a-2c91a0d25ded"
      },
      "execution_count": 15,
      "outputs": [
        {
          "output_type": "stream",
          "name": "stdout",
          "text": [
            "4295430847\n",
            "4284138568\n",
            "4292182511\n",
            "4267025199\n",
            "4291646413\n",
            "4288457079\n",
            "4293604347\n",
            "4273997962\n",
            "\n",
            "All extracted Job IDs: ['4295430847', '4284138568', '4292182511', '4267025199', '4291646413', '4288457079', '4293604347', '4273997962']\n"
          ]
        }
      ]
    },
    {
      "cell_type": "code",
      "source": [
        "job_list = []\n",
        "\n",
        "for job_id in job_id_list:\n",
        "    job_url = f\"https://www.linkedin.com/jobs-guest/jobs/api/jobPosting/{job_id}\"\n",
        "\n",
        "    job_response = requests.get(job_url)\n",
        "    job_soup = BeautifulSoup(job_response.text, \"lxml\")\n",
        "\n",
        "    job_post = {}\n",
        "\n",
        "    try:\n",
        "        job_post[\"job_title\"] = job_soup.find(\"h2\", {\"class\":\"top-card-layout__title font-sans text-lg papabear:text-xl font-bold leading-open text-color-text mb-0 topcard__title\"}).text.strip()\n",
        "    except:\n",
        "        job_post[\"job_title\"] = None\n",
        "\n",
        "    try:\n",
        "        job_post[\"company_name\"] = job_soup.find(\"a\", {\"class\": \"topcard__org-name-link topcard__flavor--black-link\"}).text.strip()\n",
        "    except:\n",
        "        job_post[\"company_name\"] = None\n",
        "\n",
        "    try:\n",
        "        job_post[\"time_posted\"] = job_soup.find(\"span\", {\"class\": \"posted-time-ago__text topcard__flavor--metadata\"}).text.strip()\n",
        "    except:\n",
        "        job_post[\"time_posted\"] = None\n",
        "\n",
        "    try:\n",
        "        job_post[\"num_applicants\"] = job_soup.find(\"span\", {\"class\": \"num-applicants__caption topcard__flavor--metadata topcard__flavor--bullet\"}).text.strip()\n",
        "    except:\n",
        "        job_post[\"num_applicants\"] = None\n",
        "\n",
        "    job_list.append(job_post)"
      ],
      "metadata": {
        "id": "gGl-yxeUUTDg"
      },
      "execution_count": 16,
      "outputs": []
    },
    {
      "cell_type": "code",
      "source": [
        "job_list"
      ],
      "metadata": {
        "colab": {
          "base_uri": "https://localhost:8080/"
        },
        "id": "kEoTUEZEUwMC",
        "outputId": "fc171b99-eeb8-447a-951b-b764c8f12225"
      },
      "execution_count": 17,
      "outputs": [
        {
          "output_type": "execute_result",
          "data": {
            "text/plain": [
              "[{'job_title': 'Full Stack Web Developer - JavaScript',\n",
              "  'company_name': 'U.S. Bank',\n",
              "  'time_posted': None,\n",
              "  'num_applicants': '72 applicants'},\n",
              " {'job_title': 'FullStack Developer',\n",
              "  'company_name': 'Golden Technology',\n",
              "  'time_posted': '3 weeks ago',\n",
              "  'num_applicants': '43 applicants'},\n",
              " {'job_title': 'Java Developer',\n",
              "  'company_name': 'Golden Technology',\n",
              "  'time_posted': '6 days ago',\n",
              "  'num_applicants': None},\n",
              " {'job_title': 'Senior Fullstack Developer (.Net / React)',\n",
              "  'company_name': 'Nexaminds',\n",
              "  'time_posted': '1 month ago',\n",
              "  'num_applicants': '38 applicants'},\n",
              " {'job_title': 'Java Developer - 25-02904',\n",
              "  'company_name': 'LeadStack Inc.',\n",
              "  'time_posted': '1 week ago',\n",
              "  'num_applicants': None},\n",
              " {'job_title': 'AI Engineer',\n",
              "  'company_name': 'Aditi Consulting',\n",
              "  'time_posted': '6 days ago',\n",
              "  'num_applicants': '102 applicants'},\n",
              " {'job_title': 'Lead Software Engineer',\n",
              "  'company_name': 'Jobot',\n",
              "  'time_posted': None,\n",
              "  'num_applicants': None},\n",
              " {'job_title': 'Deloitte Technology Product Engineering Fullstack Software Engineer Vision360',\n",
              "  'company_name': 'Deloitte',\n",
              "  'time_posted': None,\n",
              "  'num_applicants': '54 applicants'}]"
            ]
          },
          "metadata": {},
          "execution_count": 17
        }
      ]
    }
  ]
}